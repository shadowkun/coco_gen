{
 "cells": [
  {
   "cell_type": "code",
   "execution_count": 2,
   "metadata": {},
   "outputs": [],
   "source": [
    "import cv2\n",
    "import numpy as np\n",
    " \n",
    "def calc_hog(im,numorient=9):\n",
    "    \"\"\"\n",
    "    calculate integral HOG (Histogram of Orientation Gradient) image (w,h,numorient)\n",
    "     \n",
    "    calc_hog(im, numorient=9)\n",
    "     \n",
    "    returns \n",
    "        Integral HOG image\n",
    " \n",
    "    params \n",
    "        im : color image\n",
    "        numorient : number of orientation bins, default is 9 (-4..4)\n",
    "     \n",
    "    \"\"\"\n",
    "    sz = cv.GetSize(im)\n",
    "    gr = cv.CreateImage(sz, 8, 1)\n",
    "    gx = cv.CreateImage(sz, 32, 1)\n",
    "    gy = cv.CreateImage(sz, 32, 1)\n",
    "     \n",
    "    #convert to grayscale\n",
    "    cv.CvtColor(im, gr, cv.CV_BGR2GRAY)\n",
    "     \n",
    "    #calc gradient using sobel\n",
    "    cv.Sobel(gr, gx, 1, 0, 3)\n",
    "    cv.Sobel(gr, gy, 0, 1, 3)\n",
    "     \n",
    "    #calc initial result\n",
    "    hog = np.zeros((sz[1], sz[0], numorient))\n",
    "    mid = numorient/2\n",
    "    for y in xrange(0, sz[1]-1):\n",
    "        for x in xrange(0, sz[0]-1):\n",
    "            angle = int(round(mid*np.arctan2(gy[y,x], gx[y,x])/np.pi))+mid\n",
    "            magnitude = np.sqrt(gx[y,x]*gx[y,x]+gy[y,x]*gy[y,x])\n",
    "            hog[y,x,angle] += magnitude\n",
    "             \n",
    "             \n",
    "    #build integral image\n",
    "    for x in xrange(1, sz[0]-1):\n",
    "        for ang in xrange(numorient):\n",
    "            hog[y,x,ang] += hog[y,x-1,ang]\n",
    "    for y in xrange(1, sz[1]-1):\n",
    "        for ang in xrange(numorient):\n",
    "            hog[y,x,ang] += hog[y-1,x,ang]\n",
    "    for y in xrange(1, sz[1]-1):\n",
    "        for x in xrange(1, sz[0]-1):\n",
    "            for ang in xrange(numorient):\n",
    "                #tambah kiri dan atas, kurangi dengan kiri-atas\n",
    "                hog[y,x,ang] += hog[y-1,x,ang] + hog[y,x-1,ang] - hog[y-1,x-1,ang]\n",
    "    return hog"
   ]
  },
  {
   "cell_type": "code",
   "execution_count": null,
   "metadata": {},
   "outputs": [],
   "source": []
  }
 ],
 "metadata": {
  "kernelspec": {
   "display_name": "Python 3",
   "language": "python",
   "name": "python3"
  },
  "language_info": {
   "codemirror_mode": {
    "name": "ipython",
    "version": 3
   },
   "file_extension": ".py",
   "mimetype": "text/x-python",
   "name": "python",
   "nbconvert_exporter": "python",
   "pygments_lexer": "ipython3",
   "version": "3.6.5"
  }
 },
 "nbformat": 4,
 "nbformat_minor": 2
}
